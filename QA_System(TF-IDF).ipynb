{
 "cells": [
  {
   "cell_type": "code",
   "execution_count": null,
   "metadata": {
    "id": "82XmBJHt0Q_c"
   },
   "outputs": [],
   "source": [
    "import nltk"
   ]
  },
  {
   "cell_type": "code",
   "execution_count": null,
   "metadata": {
    "colab": {
     "base_uri": "https://localhost:8080/"
    },
    "executionInfo": {
     "elapsed": 278,
     "status": "ok",
     "timestamp": 1671656635314,
     "user": {
      "displayName": "Esra Çetin",
      "userId": "02584550224006463001"
     },
     "user_tz": -180
    },
    "id": "5uZ3mLi90Q_f",
    "outputId": "7ffd6b1c-50d4-4314-8e5d-6bdd76e38cf0"
   },
   "outputs": [],
   "source": [
    "import pandas as pd\n",
    "\n",
    "from nltk.corpus import stopwords \n",
    "nltk.download('stopwords')\n",
    "sw=stopwords.words(\"turkish\")"
   ]
  },
  {
   "cell_type": "code",
   "execution_count": null,
   "metadata": {
    "colab": {
     "base_uri": "https://localhost:8080/",
     "height": 424
    },
    "executionInfo": {
     "elapsed": 524,
     "status": "ok",
     "timestamp": 1671656645226,
     "user": {
      "displayName": "Esra Çetin",
      "userId": "02584550224006463001"
     },
     "user_tz": -180
    },
    "id": "wjCvTiXA0Q_i",
    "outputId": "b45bae17-f96c-4bc8-8a27-6f2fa0d6a018"
   },
   "outputs": [],
   "source": [
    "df=pd.read_excel(\"C:/Users/USER/Desktop/esra/Veri_Bilimi/ChatBot/metin_madenciligi/Yeni_klasor/soru_cevap.xlsx\")\n",
    "df"
   ]
  },
  {
   "cell_type": "code",
   "execution_count": null,
   "metadata": {
    "id": "DliukBq_1yb1"
   },
   "outputs": [],
   "source": [
    "!pip install jpype1"
   ]
  },
  {
   "cell_type": "code",
   "execution_count": null,
   "metadata": {
    "id": "oSAWFd_u1yYw"
   },
   "outputs": [],
   "source": [
    "from jpype import JClass, getDefaultJVMPath, shutdownJVM, startJVM, JString\n",
    "import os\n",
    "import string"
   ]
  },
  {
   "cell_type": "code",
   "execution_count": null,
   "metadata": {
    "id": "NdnsDW1j1yPx"
   },
   "outputs": [],
   "source": [
    "ZEMBEREK_PATH = r\"/C:/Users/USER/Desktop/esra/Veri_Bilimi/ChatBot/metin_madenciligi/zemberek-full\"\n",
    "startJVM(getDefaultJVMPath(), '-ea', '-Djava.class.path=%s' % (ZEMBEREK_PATH))\n",
    "DATA_PATH = r\"/C:/Users/USER/Desktop/esra/Veri_Bilimi/ChatBot/metin_madenciligi/data\""
   ]
  },
  {
   "cell_type": "code",
   "execution_count": null,
   "metadata": {
    "id": "bjC12gG135CJ"
   },
   "outputs": [],
   "source": [
    "TurkishTokenizer: JClass = JClass(\"zemberek.tokenization.TurkishTokenizer\")\n",
    "TurkishMorphology: JClass = JClass(\"zemberek.morphology.TurkishMorphology\")\n",
    "TurkishSentenceNormalizer: JClass = JClass(\n",
    "    \"zemberek.normalization.TurkishSentenceNormalizer\"\n",
    ")\n",
    "Paths: JClass = JClass(\"java.nio.file.Paths\")\n",
    "morphology = TurkishMorphology.createWithDefaults()\n",
    "tokenizer = TurkishTokenizer.DEFAULT\n",
    "normalizer = TurkishSentenceNormalizer(\n",
    "    TurkishMorphology.createWithDefaults(),\n",
    "    Paths.get(str(os.path.join(DATA_PATH, \"normalization\"))),\n",
    "    Paths.get(str(os.path.join(DATA_PATH, \"lm\", \"lm.2gram.slm\"))),\n",
    ")"
   ]
  },
  {
   "cell_type": "code",
   "execution_count": null,
   "metadata": {
    "colab": {
     "base_uri": "https://localhost:8080/"
    },
    "executionInfo": {
     "elapsed": 5503,
     "status": "ok",
     "timestamp": 1671656669364,
     "user": {
      "displayName": "Esra Çetin",
      "userId": "02584550224006463001"
     },
     "user_tz": -180
    },
    "id": "nd34bzSu2An7",
    "outputId": "3a73bede-fc2c-4d75-f310-82a8d1d512e5"
   },
   "outputs": [],
   "source": [
    "import re\n",
    "\n",
    "def clean_data(data,stopwords=False):\n",
    "    data=data.lower()                  #küçük harf\n",
    "    data=re.sub(r\"[^\\w\\s]\",\"\",data)    #noktalama işaretlerinin silinmesi\n",
    "    data=re.sub(r\"[\\d]\",\"\",data)       #sayıların silinmesi\n",
    "\n",
    "    liste=[] \n",
    "    for word in data.split():\n",
    "        #Word analysis\n",
    "        analysis_list = [morphology.analyzeAndDisambiguate(JString(word)).bestAnalysis()[0]]\n",
    "        #Lemmatization --> Mastar ekli halleri\n",
    "        #lemm_text = [str(analysis.getDictionaryItem().lemma) for analysis in analysis_list]\n",
    "        #Normalized Lemmatization --> Mastar ekleri yok.\n",
    "        norm_lemm_text = [str(analysis.getDictionaryItem().normalizedLemma()) for analysis in analysis_list]\n",
    "        liste.append(\" \".join(norm_lemm_text))\n",
    "        joiner = \" \"\n",
    "        data=joiner.join(liste)\n",
    "\n",
    "\n",
    "    if stopwords:\n",
    "        without_sw=\"\"\n",
    "        for w in data.split():\n",
    "            if w not in sw:\n",
    "                without_sw+=\" \"+w\n",
    "        data=without_sw\n",
    "\n",
    "   \n",
    "    return data\n",
    "    \n",
    "\n",
    "def get_cleaned_sentences(df,stopwords=False):    \n",
    "    cleaned_sentences=[]\n",
    "    for index,row in df.iterrows():\n",
    "        #print(index,row)\n",
    "        cleaned=clean_data(row[\"Soru\"],stopwords);\n",
    "        cleaned_sentences.append(cleaned);\n",
    "    \n",
    "    return cleaned_sentences;\n",
    "\n",
    "cleaned_sentences=get_cleaned_sentences(df,stopwords=True)\n",
    "print(cleaned_sentences);\n",
    "\n",
    "print(\"\\n\")\n",
    "\n",
    "cleaned_sentences_with_stopwords=get_cleaned_sentences(df,stopwords=False)\n",
    "print(cleaned_sentences_with_stopwords);\n",
    "\n"
   ]
  },
  {
   "cell_type": "code",
   "execution_count": null,
   "metadata": {
    "id": "-Sl6KGCB0Q_n"
   },
   "outputs": [],
   "source": [
    "from sklearn.feature_extraction.text import TfidfVectorizer"
   ]
  },
  {
   "cell_type": "code",
   "execution_count": null,
   "metadata": {
    "id": "tNfEmidZ0Q_n"
   },
   "outputs": [],
   "source": [
    "from sklearn.metrics.pairwise import cosine_similarity"
   ]
  },
  {
   "cell_type": "code",
   "execution_count": null,
   "metadata": {
    "id": "3mfkbK3z0Q_o"
   },
   "outputs": [],
   "source": [
    "def soru_cevap(soru_embedding,embeddings,df,sorular):\n",
    "    \n",
    "    max_sim=-1;\n",
    "    index_sim=-1;\n",
    "    for index,SSS_embedding in enumerate(embeddings):\n",
    "        sim=cosine_similarity(SSS_embedding,soru_embedding)[0][0];\n",
    "        #print(index, sim, sorular[index])  #bunları bir tabloya ata sırala ve ilk üç değerin dönmesini sağla\n",
    "        \n",
    "\n",
    "        if sim>max_sim:\n",
    "            max_sim=sim;\n",
    "            index_sim=index;\n",
    "    \n",
    "\n",
    "    if max_sim<=0.30:\n",
    "        print(\"Bot:Üzgünüm seni anlayamadım!\")\n",
    "        \n",
    "    else:\n",
    "        #print(\"\\n\")\n",
    "        #print(\"Soru: \",soru)\n",
    "        #print(\"\\n\");\n",
    "        print(\"Soru: \",df.iloc[index_sim,0]) \n",
    "        print(\"Bot: \", df.iloc[index_sim,1])    #iloc => integer-location  \n",
    "      \n",
    "    "
   ]
  },
  {
   "cell_type": "code",
   "execution_count": null,
   "metadata": {
    "colab": {
     "base_uri": "https://localhost:8080/"
    },
    "executionInfo": {
     "elapsed": 6741,
     "status": "ok",
     "timestamp": 1671656679618,
     "user": {
      "displayName": "Esra Çetin",
      "userId": "02584550224006463001"
     },
     "user_tz": -180
    },
    "id": "m5wIVDlmC0Ej",
    "outputId": "7eb30986-af89-47fb-fe76-710207f006fd"
   },
   "outputs": [],
   "source": [
    "!pip install openpyxl"
   ]
  },
  {
   "cell_type": "code",
   "execution_count": null,
   "metadata": {
    "id": "HtxuK_2jC0Ao"
   },
   "outputs": [],
   "source": [
    "from openpyxl import Workbook,load_workbook"
   ]
  },
  {
   "cell_type": "code",
   "execution_count": null,
   "metadata": {
    "id": "sqnJrL5tCzy_"
   },
   "outputs": [],
   "source": [
    "wb = load_workbook(\"C:/Users/USER/Desktop/esra/Veri_Bilimi/ChatBot/metin_madenciligi/Yeni_klasor/yeni_veri.xlsx\")\n",
    "ws = wb.active"
   ]
  },
  {
   "cell_type": "code",
   "execution_count": null,
   "metadata": {
    "colab": {
     "base_uri": "https://localhost:8080/"
    },
    "executionInfo": {
     "elapsed": 14,
     "status": "ok",
     "timestamp": 1671656680118,
     "user": {
      "displayName": "Esra Çetin",
      "userId": "02584550224006463001"
     },
     "user_tz": -180
    },
    "id": "8I1_2Fo0JdBI",
    "outputId": "2d1b53da-6d4d-4a01-cc1a-a1b2d2f414cb"
   },
   "outputs": [],
   "source": [
    "print(ws[\"A1\"].value)"
   ]
  },
  {
   "cell_type": "code",
   "execution_count": null,
   "metadata": {
    "colab": {
     "base_uri": "https://localhost:8080/"
    },
    "executionInfo": {
     "elapsed": 3806,
     "status": "ok",
     "timestamp": 1671656748075,
     "user": {
      "displayName": "Esra Çetin",
      "userId": "02584550224006463001"
     },
     "user_tz": -180
    },
    "id": "iFSWPOzO0Q_p",
    "outputId": "6c2cf334-5a88-45e4-bb0a-7a44b3ec6220"
   },
   "outputs": [],
   "source": [
    "flag=True\n",
    "print(\"Bot:Merhaba sana yardımcı olmaya çalışacağım. Sohbetten çıkmak için 'bye' yazabilirsin.\")\n",
    "while (flag==True):\n",
    "    kullanici=input()\n",
    "    if(kullanici!=\"bye\"):\n",
    "        liste=[]\n",
    "        liste.append(kullanici)\n",
    "        ws.append(liste)\n",
    "        wb.save(\"C:/Users/USER/Desktop/esra/Veri_Bilimi/ChatBot/metin_madenciligi/Yeni_klasor/yeni_veri.xlsx\")\n",
    "        soru=clean_data(kullanici,stopwords=True)\n",
    "        print(soru)\n",
    "        TfidfVec = TfidfVectorizer()\n",
    "        tfidf = TfidfVec.fit_transform(cleaned_sentences)\n",
    "        soru_embedding = TfidfVec.transform(soru.split(\",\"))\n",
    "        soru_cevap(soru_embedding,tfidf,df,cleaned_sentences)\n",
    "    elif (kullanici==\"bye\"):\n",
    "        flag=False\n",
    "        print(\"Bot: Bye..\")\n",
    "        "
   ]
  }
 ],
 "metadata": {
  "colab": {
   "provenance": []
  },
  "kernelspec": {
   "display_name": "Python 3",
   "language": "python",
   "name": "python3"
  },
  "language_info": {
   "codemirror_mode": {
    "name": "ipython",
    "version": 3
   },
   "file_extension": ".py",
   "mimetype": "text/x-python",
   "name": "python",
   "nbconvert_exporter": "python",
   "pygments_lexer": "ipython3",
   "version": "3.8.5"
  }
 },
 "nbformat": 4,
 "nbformat_minor": 4
}
